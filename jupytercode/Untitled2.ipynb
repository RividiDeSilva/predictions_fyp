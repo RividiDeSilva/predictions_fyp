{
 "cells": [
  {
   "cell_type": "code",
   "execution_count": 4,
   "id": "8b2ccf9c",
   "metadata": {},
   "outputs": [],
   "source": [
    "import pandas as pd\n",
    "import numpy as np\n",
    "# import matplotlib.pyplot as plt\n",
    "# import seaborn as sns\n",
    "from datetime import datetime"
   ]
  },
  {
   "cell_type": "code",
   "execution_count": null,
   "id": "afc69f08",
   "metadata": {},
   "outputs": [],
   "source": [
    "!pip install pandas"
   ]
  },
  {
   "cell_type": "code",
   "execution_count": 6,
   "id": "94cd30ff",
   "metadata": {},
   "outputs": [
    {
     "data": {
      "text/html": [
       "<div>\n",
       "<style scoped>\n",
       "    .dataframe tbody tr th:only-of-type {\n",
       "        vertical-align: middle;\n",
       "    }\n",
       "\n",
       "    .dataframe tbody tr th {\n",
       "        vertical-align: top;\n",
       "    }\n",
       "\n",
       "    .dataframe thead th {\n",
       "        text-align: right;\n",
       "    }\n",
       "</style>\n",
       "<table border=\"1\" class=\"dataframe\">\n",
       "  <thead>\n",
       "    <tr style=\"text-align: right;\">\n",
       "      <th></th>\n",
       "      <th>DATE</th>\n",
       "      <th>Time</th>\n",
       "      <th>SalesPersonCode</th>\n",
       "      <th>NetAmount</th>\n",
       "    </tr>\n",
       "  </thead>\n",
       "  <tbody>\n",
       "    <tr>\n",
       "      <th>0</th>\n",
       "      <td>2023-01-01</td>\n",
       "      <td>9:22 AM</td>\n",
       "      <td>265</td>\n",
       "      <td>490.0</td>\n",
       "    </tr>\n",
       "    <tr>\n",
       "      <th>1</th>\n",
       "      <td>2023-01-01</td>\n",
       "      <td>9:43 AM</td>\n",
       "      <td>430</td>\n",
       "      <td>1290.0</td>\n",
       "    </tr>\n",
       "    <tr>\n",
       "      <th>2</th>\n",
       "      <td>2023-01-01</td>\n",
       "      <td>9:45 AM</td>\n",
       "      <td>544</td>\n",
       "      <td>3790.0</td>\n",
       "    </tr>\n",
       "    <tr>\n",
       "      <th>3</th>\n",
       "      <td>2023-01-01</td>\n",
       "      <td>10:09 AM</td>\n",
       "      <td>265</td>\n",
       "      <td>3975.0</td>\n",
       "    </tr>\n",
       "    <tr>\n",
       "      <th>4</th>\n",
       "      <td>2023-01-01</td>\n",
       "      <td>10:16 AM</td>\n",
       "      <td>525</td>\n",
       "      <td>2290.0</td>\n",
       "    </tr>\n",
       "  </tbody>\n",
       "</table>\n",
       "</div>"
      ],
      "text/plain": [
       "        DATE      Time SalesPersonCode  NetAmount\n",
       "0 2023-01-01   9:22 AM             265      490.0\n",
       "1 2023-01-01   9:43 AM             430     1290.0\n",
       "2 2023-01-01   9:45 AM             544     3790.0\n",
       "3 2023-01-01  10:09 AM             265     3975.0\n",
       "4 2023-01-01  10:16 AM             525     2290.0"
      ]
     },
     "execution_count": 6,
     "metadata": {},
     "output_type": "execute_result"
    }
   ],
   "source": [
    "data = pd.read_csv('2023-2024-Horana-cleaned.csv') \n",
    "\n",
    "data['DATE'] = pd.to_datetime(data['DATE'])\n",
    "\n",
    "data['NetAmount'] = data['NetAmount'].abs()\n",
    "\n",
    "data['SalesPersonCode']\n",
    "data.head()"
   ]
  },
  {
   "cell_type": "code",
   "execution_count": 7,
   "id": "be9ac120",
   "metadata": {},
   "outputs": [
    {
     "data": {
      "text/html": [
       "<div>\n",
       "<style scoped>\n",
       "    .dataframe tbody tr th:only-of-type {\n",
       "        vertical-align: middle;\n",
       "    }\n",
       "\n",
       "    .dataframe tbody tr th {\n",
       "        vertical-align: top;\n",
       "    }\n",
       "\n",
       "    .dataframe thead th {\n",
       "        text-align: right;\n",
       "    }\n",
       "</style>\n",
       "<table border=\"1\" class=\"dataframe\">\n",
       "  <thead>\n",
       "    <tr style=\"text-align: right;\">\n",
       "      <th></th>\n",
       "      <th>DATE</th>\n",
       "      <th>Time</th>\n",
       "      <th>SalesPersonCode</th>\n",
       "      <th>NetAmount</th>\n",
       "    </tr>\n",
       "  </thead>\n",
       "  <tbody>\n",
       "    <tr>\n",
       "      <th>0</th>\n",
       "      <td>2023-01-01</td>\n",
       "      <td>9:22 AM</td>\n",
       "      <td>265</td>\n",
       "      <td>490.0</td>\n",
       "    </tr>\n",
       "    <tr>\n",
       "      <th>1</th>\n",
       "      <td>2023-01-01</td>\n",
       "      <td>9:43 AM</td>\n",
       "      <td>430</td>\n",
       "      <td>1290.0</td>\n",
       "    </tr>\n",
       "    <tr>\n",
       "      <th>3</th>\n",
       "      <td>2023-01-01</td>\n",
       "      <td>10:09 AM</td>\n",
       "      <td>265</td>\n",
       "      <td>3975.0</td>\n",
       "    </tr>\n",
       "    <tr>\n",
       "      <th>6</th>\n",
       "      <td>2023-01-01</td>\n",
       "      <td>10:19 AM</td>\n",
       "      <td>430</td>\n",
       "      <td>1490.0</td>\n",
       "    </tr>\n",
       "    <tr>\n",
       "      <th>7</th>\n",
       "      <td>2023-01-01</td>\n",
       "      <td>10:21 AM</td>\n",
       "      <td>254</td>\n",
       "      <td>4590.0</td>\n",
       "    </tr>\n",
       "  </tbody>\n",
       "</table>\n",
       "</div>"
      ],
      "text/plain": [
       "        DATE      Time SalesPersonCode  NetAmount\n",
       "0 2023-01-01   9:22 AM             265      490.0\n",
       "1 2023-01-01   9:43 AM             430     1290.0\n",
       "3 2023-01-01  10:09 AM             265     3975.0\n",
       "6 2023-01-01  10:19 AM             430     1490.0\n",
       "7 2023-01-01  10:21 AM             254     4590.0"
      ]
     },
     "execution_count": 7,
     "metadata": {},
     "output_type": "execute_result"
    }
   ],
   "source": [
    "last_year = data['DATE'].dt.year.max()\n",
    "\n",
    "last_year_data = data[data['DATE'].dt.year == last_year]\n",
    "\n",
    "valid_sales_persons = last_year_data['SalesPersonCode'].unique()\n",
    "\n",
    "filtered_data = data[data['SalesPersonCode'].isin(valid_sales_persons)]\n",
    "\n",
    "filtered_data.to_csv('filtered_Horana_cleaned.csv', index=False)\n",
    "\n",
    "filtered_data.head()"
   ]
  },
  {
   "cell_type": "code",
   "execution_count": null,
   "id": "f141e837",
   "metadata": {},
   "outputs": [],
   "source": [
    "!pip install tensorflow\n",
    "!pip install shap\n",
    "from sklearn.preprocessing import MinMaxScaler\n",
    "from tensorflow.keras.models import Sequential\n",
    "from tensorflow.keras.layers import LSTM, Dense\n",
    "import shap"
   ]
  },
  {
   "cell_type": "code",
   "execution_count": null,
   "id": "7abd3c7a",
   "metadata": {},
   "outputs": [],
   "source": []
  }
 ],
 "metadata": {
  "kernelspec": {
   "display_name": "Python (jupyter_env)",
   "language": "python",
   "name": "jupyter_env"
  },
  "language_info": {
   "codemirror_mode": {
    "name": "ipython",
    "version": 3
   },
   "file_extension": ".py",
   "mimetype": "text/x-python",
   "name": "python",
   "nbconvert_exporter": "python",
   "pygments_lexer": "ipython3",
   "version": "3.7.0"
  }
 },
 "nbformat": 4,
 "nbformat_minor": 5
}
